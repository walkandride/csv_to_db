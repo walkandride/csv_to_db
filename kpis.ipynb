{
 "cells": [
  {
   "cell_type": "code",
   "execution_count": null,
   "metadata": {},
   "outputs": [],
   "source": [
    "# KPI SQL statements\n",
    "\n",
    "# This will aggregate your data into two-hour intervals (0-2, 2-4, etc.) and give you the count for each interval.\n",
    "peak_hours_by_2_sql = r\"\"\"\n",
    "SELECT \n",
    "    (EXTRACT(HOUR FROM checkin_time)::INTEGER / 2) * 2 AS two_hour_interval,\n",
    "    COUNT(*) AS count\n",
    "FROM \n",
    "    checkins\n",
    "GROUP BY \n",
    "    two_hour_interval\n",
    "ORDER BY \n",
    "    two_hour_interval;\n",
    "\"\"\"\n",
    "\n",
    "peak_hours_by_1_sql = r\"\"\"\n",
    "SELECT \n",
    "    (EXTRACT(HOUR FROM checkin_time)::INTEGER) AS one_hour_interval,\n",
    "    COUNT(*) AS count\n",
    "FROM \n",
    "    checkins\n",
    "GROUP BY \n",
    "    one_hour_interval\n",
    "ORDER BY \n",
    "    one_hour_interval DESC;\n",
    "\"\"\"\n",
    "\n",
    "avg_checkins_per_member_sql = \"\"\"\n",
    "SELECT \n",
    "    fk_user_id,\n",
    "    extract(month from checkin_time) AS month,\n",
    "    extract(year from checkin_time) AS year,\n",
    "    COUNT(*) AS count\n",
    "FROM checkins\n",
    "GROUP BY \n",
    "    fk_user_id,\n",
    "    EXTRACT(MONTH FROM checkin_time),\n",
    "    EXTRACT(YEAR FROM checkin_time)\n",
    "ORDER BY \n",
    "    1, \n",
    "    3, \n",
    "    2;\n",
    ";\n",
    "\n",
    "\"\"\""
   ]
  }
 ],
 "metadata": {
  "language_info": {
   "name": "python"
  }
 },
 "nbformat": 4,
 "nbformat_minor": 2
}
